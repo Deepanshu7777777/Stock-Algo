{
 "cells": [
  {
   "cell_type": "code",
   "execution_count": null,
   "id": "1d39646b",
   "metadata": {},
   "outputs": [],
   "source": [
    "import requests\n",
    "import pandas as pd"
   ]
  },
  {
   "cell_type": "code",
   "execution_count": null,
   "id": "a2ccbfb4",
   "metadata": {},
   "outputs": [],
   "source": [
    "class ScriptData:\n",
    "    def __init__(self):\n",
    "        self.data = {}\n",
    "        self.api_key = \"Your_api_key\""
   ]
  },
  {
   "cell_type": "code",
   "execution_count": null,
   "id": "19eefa11",
   "metadata": {},
   "outputs": [],
   "source": [
    "def fetch_intraday_data(self, script):\n",
    "        url = f\"https://www.alphavantage.co/query?function=TIME_SERIES_INTRADAY&symbol={script}&interval=1min&apikey={self.api_key}\"\n",
    "        response = requests.get(url)\n",
    "        data = response.json()\n",
    "        self.data[script] = data['Time Series (1min)']"
   ]
  },
  {
   "cell_type": "code",
   "execution_count": null,
   "id": "6e752752",
   "metadata": {},
   "outputs": [],
   "source": [
    "def convert_intraday_data(self, script):\n",
    "        df = pd.DataFrame(columns=['timestamp', 'open', 'high', 'low', 'close', 'volume'])\n",
    "        for timestamp, values in self.data[script].items():\n",
    "            df = df.append({\n",
    "                'timestamp': pd.Timestamp(timestamp),\n",
    "                'open': float(values['1. open']),\n",
    "                'high': float(values['2. high']),\n",
    "                'low': float(values['3. low']),\n",
    "                'close': float(values['4. close']),\n",
    "                'volume': int(values['5. volume'])\n",
    "            }, ignore_index=True)\n",
    "        self.data[script] = df"
   ]
  },
  {
   "cell_type": "code",
   "execution_count": null,
   "id": "60c5ec0d",
   "metadata": {},
   "outputs": [],
   "source": [
    "def __getitem__(self, script):\n",
    "        return self.data[script]"
   ]
  },
  {
   "cell_type": "code",
   "execution_count": null,
   "id": "1d24144b",
   "metadata": {},
   "outputs": [],
   "source": [
    " def __setitem__(self, script, df):\n",
    "        self.data[script] = df"
   ]
  },
  {
   "cell_type": "code",
   "execution_count": null,
   "id": "4d40e466",
   "metadata": {},
   "outputs": [],
   "source": [
    "def __contains__(self, script):\n",
    "        return script in self.data"
   ]
  },
  {
   "cell_type": "code",
   "execution_count": null,
   "id": "4a029ecb",
   "metadata": {},
   "outputs": [],
   "source": [
    "class ScriptData:\n",
    "    def __init__(self):\n",
    "        self.data = {}\n",
    "\n",
    "    def fetch_intraday_data(self, symbol):\n",
    "        # Code to fetch the intraday data for the given symbol\n",
    "        # and store it in the `data` dictionary under the key `symbol`\n",
    "        pass\n",
    "\n",
    "    def convert_intraday_data(self, symbol):\n",
    "        # Code to convert the intraday data for the given symbol\n",
    "        # stored in the `data` dictionary under the key `symbol`\n",
    "        pass\n"
   ]
  },
  {
   "cell_type": "code",
   "execution_count": null,
   "id": "4df43935",
   "metadata": {},
   "outputs": [],
   "source": [
    "script_data = ScriptData()\n",
    "script_data.fetch_intraday_data(\"GOOGL\")\n",
    "script_data.convert_intraday_data(\"GOOGL\")\n",
    "print(script_data.data[\"GOOGL\"])"
   ]
  },
  {
   "cell_type": "code",
   "execution_count": null,
   "id": "678405ff",
   "metadata": {},
   "outputs": [],
   "source": [
    "script_data.fetch_intraday_data(\"AAPL\")\n",
    "script_data.convert_intraday_data(\"AAPL\")\n",
    "print(script_data[\"AAPL\"])\n"
   ]
  },
  {
   "cell_type": "code",
   "execution_count": null,
   "id": "9c038ffa",
   "metadata": {},
   "outputs": [],
   "source": [
    "print(\"GOOGL\" in script_data)\n",
    "print(\"AAPL\" in script_data)\n",
    "print(\"NVDA\" in script_data)"
   ]
  },
  {
   "cell_type": "code",
   "execution_count": null,
   "id": "724b7113",
   "metadata": {},
   "outputs": [],
   "source": []
  },
  {
   "cell_type": "code",
   "execution_count": null,
   "id": "7a6b8917",
   "metadata": {},
   "outputs": [],
   "source": []
  }
 ],
 "metadata": {
  "kernelspec": {
   "display_name": "Python 3 (ipykernel)",
   "language": "python",
   "name": "python3"
  },
  "language_info": {
   "codemirror_mode": {
    "name": "ipython",
    "version": 3
   },
   "file_extension": ".py",
   "mimetype": "text/x-python",
   "name": "python",
   "nbconvert_exporter": "python",
   "pygments_lexer": "ipython3",
   "version": "3.11.1"
  }
 },
 "nbformat": 4,
 "nbformat_minor": 5
}
